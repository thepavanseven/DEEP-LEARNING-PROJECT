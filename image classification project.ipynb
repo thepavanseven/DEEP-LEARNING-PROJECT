{
 "cells": [
  {
   "cell_type": "code",
   "execution_count": 2,
   "id": "9ff972dd-5c88-46d2-8a77-7c6c0073f18d",
   "metadata": {},
   "outputs": [],
   "source": [
    "import os\n",
    "import torch\n",
    "from torchvision import datasets, transforms\n",
    "from torch.utils.data import DataLoader\n",
    "import matplotlib.pyplot as plt\n",
    "import numpy as np\n",
    "import torchvision\n",
    "\n",
    "  "
   ]
  },
  {
   "cell_type": "code",
   "execution_count": 3,
   "id": "5c66209e-29de-427b-8cb0-54b2994cf42d",
   "metadata": {},
   "outputs": [],
   "source": [
    "# 1. Define the path to your dataset\n",
    "data_dir = os.path.join(os.getcwd(), 'flowers_dataset')"
   ]
  },
  {
   "cell_type": "code",
   "execution_count": 4,
   "id": "1c306965-2095-4c39-be67-4d17d4fc002d",
   "metadata": {},
   "outputs": [],
   "source": [
    "# 2. Define transformations for training and validation\n",
    "data_transforms = {\n",
    "    'train': transforms.Compose([\n",
    "        transforms.RandomResizedCrop(224),\n",
    "        transforms.RandomHorizontalFlip(),\n",
    "        transforms.ToTensor(),\n",
    "        transforms.Normalize([0.485, 0.456, 0.406], [0.229, 0.224, 0.225])\n",
    "    ]),\n",
    "    'val': transforms.Compose([\n",
    "        transforms.Resize(256),\n",
    "        transforms.CenterCrop(224),\n",
    "        transforms.ToTensor(),\n",
    "        transforms.Normalize([0.485, 0.456, 0.406], [0.229, 0.224, 0.225])\n",
    "    ]),\n",
    "}"
   ]
  },
  {
   "cell_type": "code",
   "execution_count": 5,
   "id": "97eb9d51-89d7-4bbc-b266-cc606169ab76",
   "metadata": {},
   "outputs": [],
   "source": [
    "# 3. Load datasets using ImageFolder\n",
    "image_datasets = {x: datasets.ImageFolder(os.path.join(data_dir, x), data_transforms[x])\n",
    "                  for x in ['train', 'val']}\n"
   ]
  },
  {
   "cell_type": "code",
   "execution_count": 6,
   "id": "4704a87d-35ad-4e74-ac07-eebd86be77b1",
   "metadata": {},
   "outputs": [],
   "source": [
    "# 4. Create data loaders\n",
    "dataloaders = {x: DataLoader(image_datasets[x], batch_size=8, shuffle=True, num_workers=2)\n",
    "               for x in ['train', 'val']}"
   ]
  },
  {
   "cell_type": "code",
   "execution_count": 7,
   "id": "96c8995a-e64c-471d-8ac0-ead91d0b0364",
   "metadata": {},
   "outputs": [
    {
     "name": "stdout",
     "output_type": "stream",
     "text": [
      "Classes: ['rose', 'tulip']\n"
     ]
    }
   ],
   "source": [
    "# 5. Get class names\n",
    "class_names = image_datasets['train'].classes\n",
    "print(\"Classes:\", class_names)"
   ]
  },
  {
   "cell_type": "code",
   "execution_count": 8,
   "id": "77675868-0dc3-4706-bf83-97c3c2a19086",
   "metadata": {},
   "outputs": [],
   "source": [
    "# 6. Function to display images\n",
    "def imshow(inp, title=None):\n",
    "    \"\"\"Imshow for Tensor.\"\"\"\n",
    "    inp = inp.numpy().transpose((1, 2, 0))\n",
    "    mean = np.array([0.485, 0.456, 0.406])\n",
    "    std = np.array([0.229, 0.224, 0.225])\n",
    "    inp = std * inp + mean  # unnormalize\n",
    "    inp = np.clip(inp, 0, 1)\n",
    "    plt.imshow(inp)\n",
    "    if title is not None:\n",
    "        plt.title(title)\n",
    "    plt.axis('off')"
   ]
  },
  {
   "cell_type": "code",
   "execution_count": null,
   "id": "30b90f63-3d8b-4b2e-8d00-16c71c7a6213",
   "metadata": {},
   "outputs": [],
   "source": []
  }
 ],
 "metadata": {
  "kernelspec": {
   "display_name": "Python 3 (ipykernel)",
   "language": "python",
   "name": "python3"
  },
  "language_info": {
   "codemirror_mode": {
    "name": "ipython",
    "version": 3
   },
   "file_extension": ".py",
   "mimetype": "text/x-python",
   "name": "python",
   "nbconvert_exporter": "python",
   "pygments_lexer": "ipython3",
   "version": "3.12.7"
  }
 },
 "nbformat": 4,
 "nbformat_minor": 5
}
